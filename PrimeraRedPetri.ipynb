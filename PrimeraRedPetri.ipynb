{
 "cells": [
  {
   "cell_type": "code",
   "execution_count": 335,
   "metadata": {},
   "outputs": [],
   "source": [
    "import numpy as np\n",
    "import json\n",
    "import matplotlib.pyplot as plt\n",
    "import networkx as nx\n",
    "\n",
    "ArchivoJson = \"RedPetri.json\""
   ]
  },
  {
   "cell_type": "code",
   "execution_count": 336,
   "metadata": {},
   "outputs": [],
   "source": [
    "with open(ArchivoJson, \"r\") as file:\n",
    "    data = json.load(file)"
   ]
  },
  {
   "cell_type": "code",
   "execution_count": 337,
   "metadata": {},
   "outputs": [],
   "source": [
    "# Crear un grafo dirigido\n",
    "G = nx.DiGraph()\n",
    "\n",
    "# Agregar nodos (lugares y transiciones)\n",
    "for lugar in data[\"lugares\"]:\n",
    "    G.add_node(lugar[\"id\"], label=lugar[\"id\"] + f\"\\n{str(lugar['marcas'])}\")\n",
    "for transicion in data[\"transiciones\"]:\n",
    "    G.add_node(transicion[\"id\"], label=transicion[\"id\"])"
   ]
  },
  {
   "cell_type": "code",
   "execution_count": 338,
   "metadata": {},
   "outputs": [
    {
     "data": {
      "image/png": "[encoded data removed]",
      "text/plain": [
       "<Figure size 640x480 with 1 Axes>"
      ]
     },
     "metadata": {},
     "output_type": "display_data"
    }
   ],
   "source": [
    "# Agregar arcos\n",
    "for arco in data[\"arcos\"]:\n",
    "    G.add_edge(arco[\"desde\"], arco[\"hacia\"])\n",
    "\n",
    "# Dibujar el grafo\n",
    "pos = nx.spring_layout(G)\n",
    "node_labels = nx.get_node_attributes(G, \"label\")\n",
    "nx.draw_networkx_nodes(G, pos, node_color=\"skyblue\", node_size=1000, alpha=0.5, node_shape=\"o\")\n",
    "nx.draw_networkx_nodes(G, pos, nodelist=[transicion[\"id\"] for transicion in data[\"transiciones\"]], node_color=\"salmon\", node_size=1000, alpha=0.8, node_shape=\"s\")\n",
    "nx.draw_networkx_edges(G, pos, arrows=True, edge_color=\"black\", width=1, alpha=1)\n",
    "nx.draw_networkx_labels(G, pos, labels=node_labels, font_size=10)\n",
    "plt.axis(\"off\")\n",
    "plt.show()"
   ]
  },
  {
   "cell_type": "markdown",
   "metadata": {},
   "source": [
    "Extraer información del JSON"
   ]
  },
  {
   "cell_type": "code",
   "execution_count": 339,
   "metadata": {},
   "outputs": [],
   "source": [
    "lugares = data['lugares']\n",
    "transiciones = data['transiciones']\n",
    "arcos = data['arcos']"
   ]
  },
  {
   "cell_type": "markdown",
   "metadata": {},
   "source": [
    "Crea el arreglo de marcación inicial"
   ]
  },
  {
   "cell_type": "code",
   "execution_count": 340,
   "metadata": {},
   "outputs": [],
   "source": [
    "mi=[]\n",
    "for lugar in lugares:\n",
    "    mi.append(lugar[\"marcas\"])\n",
    "pila2=[]\n",
    "pila= []\n",
    "arbolacre = []\n",
    "pila.append(mi)\n",
    "\n"
   ]
  },
  {
   "cell_type": "code",
   "execution_count": 341,
   "metadata": {},
   "outputs": [
    {
     "name": "stdout",
     "output_type": "stream",
     "text": [
      "MIU\n",
      "[[1, 0, 0, 0]]\n",
      "[]\n"
     ]
    }
   ],
   "source": [
    "print(\"MIU\")\n",
    "print(pila)\n",
    "print(pila2)"
   ]
  },
  {
   "cell_type": "markdown",
   "metadata": {},
   "source": [
    "Crear matrices D1 y D2 con ceros"
   ]
  },
  {
   "cell_type": "code",
   "execution_count": 342,
   "metadata": {},
   "outputs": [],
   "source": [
    "p = len(lugares)\n",
    "t = len(transiciones)\n",
    "\n",
    "D1 = np.zeros((t, p))\n",
    "D2 = np.zeros((t, p))"
   ]
  },
  {
   "cell_type": "markdown",
   "metadata": {},
   "source": [
    "Llenar las matrices D1 y D2 con los pesos de los arcos"
   ]
  },
  {
   "cell_type": "code",
   "execution_count": 343,
   "metadata": {},
   "outputs": [],
   "source": [
    "for arco in arcos:\n",
    "    desde = arco['desde'] # actualiza los valores de desde hacia y peso\n",
    "    hacia = arco['hacia']\n",
    "    peso = arco['peso']\n",
    "    if hacia[0] == 'T': # El arco va hacia una transicion\n",
    "        i = int(hacia[1:]) - 1 \n",
    "        j = int(desde[1:]) - 1\n",
    "        D1[i][j] = peso"
   ]
  },
  {
   "cell_type": "code",
   "execution_count": 344,
   "metadata": {},
   "outputs": [],
   "source": [
    "for arco in arcos:\n",
    "    desde = arco['desde']\n",
    "    hacia = arco['hacia']\n",
    "    peso = arco['peso']\n",
    "    if hacia[0] == 'P': # El arco va desde una transición a un lugar\n",
    "        i = int(desde[1:]) - 1\n",
    "        j = int(hacia[1:]) - 1\n",
    "        D2[i][j] = peso"
   ]
  },
  {
   "cell_type": "markdown",
   "metadata": {},
   "source": [
    "Imprimir la matriz D1 o D- (de entrada)"
   ]
  },
  {
   "cell_type": "code",
   "execution_count": 345,
   "metadata": {},
   "outputs": [
    {
     "name": "stdout",
     "output_type": "stream",
     "text": [
      "Matriz D1:\n",
      "[[1. 0. 0. 0.]\n",
      " [0. 1. 0. 0.]\n",
      " [0. 0. 1. 0.]]\n"
     ]
    }
   ],
   "source": [
    "print(\"Matriz D1:\")\n",
    "print(D1)"
   ]
  },
  {
   "cell_type": "markdown",
   "metadata": {},
   "source": [
    "Imprimir la matriz D2 o D+ (de salida)"
   ]
  },
  {
   "cell_type": "code",
   "execution_count": 346,
   "metadata": {},
   "outputs": [
    {
     "name": "stdout",
     "output_type": "stream",
     "text": [
      "Matriz D2:\n",
      "[[0. 1. 0. 0.]\n",
      " [0. 0. 1. 0.]\n",
      " [0. 0. 0. 1.]]\n"
     ]
    }
   ],
   "source": [
    "print(\"Matriz D2:\")\n",
    "print(D2)\n"
   ]
  },
  {
   "cell_type": "code",
   "execution_count": 347,
   "metadata": {},
   "outputs": [
    {
     "name": "stdout",
     "output_type": "stream",
     "text": [
      "[[-1.  1.  0.  0.]\n",
      " [ 0. -1.  1.  0.]\n",
      " [ 0.  0. -1.  1.]]\n"
     ]
    }
   ],
   "source": [
    "D = np.zeros((p, t))\n",
    "D = D2 - D1\n",
    "print(D)"
   ]
  },
  {
   "cell_type": "code",
   "execution_count": 348,
   "metadata": {},
   "outputs": [],
   "source": [
    "def transicion_habilitada(marcado_actual, D1, i):\n",
    "    ma = marcado_actual[-1]\n",
    "    habil = ma >= D1[i]\n",
    "    habilitado = True \n",
    "    for j in range (len(ma)):\n",
    "        if habil[j] == False:\n",
    "            habilitado = False\n",
    "    return habilitado"
   ]
  },
  {
   "cell_type": "code",
   "execution_count": 349,
   "metadata": {},
   "outputs": [
    {
     "name": "stdout",
     "output_type": "stream",
     "text": [
      "¿Transición habilitada? True\n"
     ]
    }
   ],
   "source": [
    "print(\"¿Transición habilitada?\", transicion_habilitada(pila, D1, 0))"
   ]
  },
  {
   "cell_type": "markdown",
   "metadata": {},
   "source": [
    "Funcion primer disparo para uno solo"
   ]
  },
  {
   "cell_type": "code",
   "execution_count": 350,
   "metadata": {},
   "outputs": [],
   "source": [
    "def marcacion_proxima(marcado_actual, D1, D2, t):\n",
    "    Bol = transicion_habilitada(marcado_actual, D1, t)\n",
    "    marcadoproximo = np.zeros(len(lugares))\n",
    "    if Bol == True:\n",
    "        marcadoproximo = marcado_actual[-1] - D1[t] + D2[t]\n",
    "        pila.append(marcadoproximo)\n",
    "        primerm = pila[-1]\n",
    "        arbol = [primerm, marcadoproximo, t]\n",
    "        arbolacre.append(arbol)\n",
    "        return marcadoproximo\n",
    "    else:\n",
    "        return (\" transicion no habilidata\", Bol)\n",
    "    \n"
   ]
  },
  {
   "cell_type": "code",
   "execution_count": 351,
   "metadata": {},
   "outputs": [],
   "source": [
    "print(marcacion_proxima(pila,D1,D2,0))\n",
    "print(marcacion_proxima(pila,D1,D2,1))\n",
    "print (pila)\n",
    "print (pila2)\n",
    "print (pila2)\n",
    "print(arbolacre)\n"
   ]
  },
  {
   "cell_type": "markdown",
   "metadata": {},
   "source": [
    "Funcion de Primer disparo para todos"
   ]
  },
  {
   "cell_type": "code",
   "execution_count": 352,
   "metadata": {},
   "outputs": [
    {
     "ename": "IndexError",
     "evalue": "only integers, slices (`:`), ellipsis (`...`), numpy.newaxis (`None`) and integer or boolean arrays are valid indices",
     "output_type": "error",
     "traceback": [
      "\u001b[1;31m---------------------------------------------------------------------------\u001b[0m",
      "\u001b[1;31mIndexError\u001b[0m                                Traceback (most recent call last)",
      "Cell \u001b[1;32mIn[352], line 3\u001b[0m\n\u001b[0;32m      1\u001b[0m \u001b[38;5;28;01mfor\u001b[39;00m j \u001b[38;5;129;01min\u001b[39;00m transiciones:\n\u001b[0;32m      2\u001b[0m     \u001b[38;5;28;01mfor\u001b[39;00m i \u001b[38;5;129;01min\u001b[39;00m \u001b[38;5;28mrange\u001b[39m(\u001b[38;5;28mlen\u001b[39m(lugares)):\n\u001b[1;32m----> 3\u001b[0m         \u001b[38;5;28;01mif\u001b[39;00m mi[i] \u001b[38;5;241m>\u001b[39m \u001b[43mD1\u001b[49m\u001b[43m[\u001b[49m\u001b[43mi\u001b[49m\u001b[43m]\u001b[49m\u001b[43m[\u001b[49m\u001b[43mj\u001b[49m\u001b[43m]\u001b[49m:\n\u001b[0;32m      4\u001b[0m             mip \u001b[38;5;241m=\u001b[39m mi[i] \u001b[38;5;241m-\u001b[39m D1[i][j] \u001b[38;5;241m+\u001b[39m D2[i][j]\n",
      "\u001b[1;31mIndexError\u001b[0m: only integers, slices (`:`), ellipsis (`...`), numpy.newaxis (`None`) and integer or boolean arrays are valid indices"
     ]
    }
   ],
   "source": [
    "# for j in transiciones:\n",
    "#     for i in range(len(lugares)):\n",
    "#         if mi[i] > D1[i][j]:\n",
    "#             mip = mi[i] - D1[i][j] + D2[i][j]"
   ]
  },
  {
   "cell_type": "code",
   "execution_count": 353,
   "metadata": {},
   "outputs": [],
   "source": [
    "def dfs(marcado_actual, D1, D2, arbol_accesibilidad, transiciones, lugares):\n",
    "    # Recorrer todas las transiciones posibles desde el marcado actual\n",
    "    for t in range(len(transiciones)):\n",
    "        # Verificar si la transición está habilitada\n",
    "        if transicion_habilitada(marcado_actual, D1, t):\n",
    "            # Calcular la marcación próxima\n",
    "            marcado_proximo = calcular_marcado_proximo(marcado_actual, D1, D2, t)\n",
    "            \n",
    "            # Verificar si el marcado próximo ya ha sido explorado\n",
    "            if marcado_proximo not in [estado[0] for estado in arbol_accesibilidad]:\n",
    "                # Agregar el par (marcado, transición) al árbol de alcanzabilidad\n",
    "                arbol_accesibilidad.append((marcado_actual, marcado_proximo, t))\n",
    "                \n",
    "                # Llamar a la función dfs recursivamente con el marcado próximo\n",
    "                dfs(marcado_proximo, D1, D2, arbol_accesibilidad, transiciones, lugares)\n",
    "\n",
    "def calcular_marcado_proximo(marcado_actual, D1, D2, t):\n",
    "    # Calcular el marcado próximo después de ejecutar la transición t\n",
    "    marcado_proximo = marcado_actual - D1[t] + D2[t]\n",
    "    return marcado_proximo\n",
    "\n",
    "\n",
    "\n"
   ]
  }
 ],
 "metadata": {
  "kernelspec": {
   "display_name": "Python 3",
   "language": "python",
   "name": "python3"
  },
  "language_info": {
   "codemirror_mode": {
    "name": "ipython",
    "version": 3
   },
   "file_extension": ".py",
   "mimetype": "text/x-python",
   "name": "python",
   "nbconvert_exporter": "python",
   "pygments_lexer": "ipython3",
   "version": "3.12.3"
  }
 },
 "nbformat": 4,
 "nbformat_minor": 2
}
